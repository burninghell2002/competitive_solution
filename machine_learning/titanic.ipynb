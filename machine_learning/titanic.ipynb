{
  "nbformat": 4,
  "nbformat_minor": 0,
  "metadata": {
    "colab": {
      "name": "titanic.ipynb",
      "provenance": []
    },
    "kernelspec": {
      "name": "python3",
      "display_name": "Python 3"
    },
    "language_info": {
      "name": "python"
    }
  },
  "cells": [
    {
      "cell_type": "code",
      "metadata": {
        "id": "OtoT87AkBdfA"
      },
      "source": [
        "import pandas as pd\n",
        "import numpy as np\n",
        "import matplotlib.pyplot as plt\n",
        "from sklearn.preprocessing import StandardScaler\n",
        "from sklearn.model_selection import train_test_split\n",
        "from sklearn.linear_model import LogisticRegression\n",
        "from sklearn.preprocessing import LabelEncoder\n",
        "from sklearn.preprocessing import StandardScaler"
      ],
      "execution_count": null,
      "outputs": []
    },
    {
      "cell_type": "markdown",
      "metadata": {
        "id": "9Yg-jDfxCvod"
      },
      "source": [
        "import dataset"
      ]
    },
    {
      "cell_type": "code",
      "metadata": {
        "colab": {
          "base_uri": "https://localhost:8080/"
        },
        "id": "xeAiw69rCvFn",
        "outputId": "c43b77d2-a046-45fa-fe09-94b8ed1a0158"
      },
      "source": [
        "test=pd.read_csv(\"/content/drive/MyDrive/datasets/titanic/test.csv\")\n",
        "df=pd.read_csv(\"/content/drive/MyDrive/datasets/titanic/train.csv\")\n",
        "df.columns"
      ],
      "execution_count": null,
      "outputs": [
        {
          "output_type": "execute_result",
          "data": {
            "text/plain": [
              "Index(['PassengerId', 'Survived', 'Pclass', 'Name', 'Sex', 'Age', 'SibSp',\n",
              "       'Parch', 'Ticket', 'Fare', 'Cabin', 'Embarked'],\n",
              "      dtype='object')"
            ]
          },
          "metadata": {},
          "execution_count": 2
        }
      ]
    },
    {
      "cell_type": "code",
      "metadata": {
        "colab": {
          "base_uri": "https://localhost:8080/"
        },
        "id": "BXoL-mylM2RG",
        "outputId": "907f7d8b-ed0d-45d2-c51b-1007cf7a768f"
      },
      "source": [
        "test.columns"
      ],
      "execution_count": null,
      "outputs": [
        {
          "output_type": "execute_result",
          "data": {
            "text/plain": [
              "Index(['PassengerId', 'Pclass', 'Name', 'Sex', 'Age', 'SibSp', 'Parch',\n",
              "       'Ticket', 'Fare', 'Cabin', 'Embarked'],\n",
              "      dtype='object')"
            ]
          },
          "metadata": {},
          "execution_count": 3
        }
      ]
    },
    {
      "cell_type": "markdown",
      "metadata": {
        "id": "UP4sopOcC3LT"
      },
      "source": [
        "check for na values\n",
        "Removed all Nas in this cell"
      ]
    },
    {
      "cell_type": "code",
      "metadata": {
        "id": "JDl6W98WC82r"
      },
      "source": [
        "df=df.drop(['Age','Cabin','Name','Ticket','PassengerId'],axis=1)\n",
        "passengerId=test.PassengerId\n",
        "test=test.drop(['Age','Cabin','Name','Ticket','PassengerId'],axis=1)\n",
        "test=test.fillna(test['Fare'].mean())\n",
        "df=df.dropna()\n",
        "test=test.fillna(df['Fare'].mean())\n"
      ],
      "execution_count": null,
      "outputs": []
    },
    {
      "cell_type": "code",
      "metadata": {
        "colab": {
          "base_uri": "https://localhost:8080/"
        },
        "id": "1a4xS8pwNwWG",
        "outputId": "f63ff44a-cf71-4a77-8a5c-b0e3b8a61b93"
      },
      "source": [
        "print(df.isna().sum())\n",
        "print(test.isna().sum())"
      ],
      "execution_count": null,
      "outputs": [
        {
          "output_type": "stream",
          "name": "stdout",
          "text": [
            "Survived    0\n",
            "Pclass      0\n",
            "Sex         0\n",
            "SibSp       0\n",
            "Parch       0\n",
            "Fare        0\n",
            "Embarked    0\n",
            "dtype: int64\n",
            "Pclass      0\n",
            "Sex         0\n",
            "SibSp       0\n",
            "Parch       0\n",
            "Fare        0\n",
            "Embarked    0\n",
            "dtype: int64\n"
          ]
        }
      ]
    },
    {
      "cell_type": "markdown",
      "metadata": {
        "id": "qZ4J_28eF7Fa"
      },
      "source": [
        "taking care of catogrical data"
      ]
    },
    {
      "cell_type": "code",
      "metadata": {
        "id": "qpfnVSaZF90R"
      },
      "source": [
        "encoderSex=LabelEncoder()\n",
        "newSex=encoderSex.fit_transform(df['Sex'])\n",
        "testSex=encoderSex.transform(test['Sex'])\n",
        "df.drop('Sex',axis=1)\n",
        "test.drop('Sex',axis=1)\n",
        "df['Sex']=newSex\n",
        "test['Sex']=testSex\n",
        "\n",
        "encodeEmbar=LabelEncoder()\n",
        "newEmbark=encodeEmbar.fit_transform(df['Embarked'])\n",
        "testEmbark=encodeEmbar.transform(test['Embarked'])\n",
        "df.drop('Embarked',axis=1)\n",
        "test.drop('Embarked',axis=1)\n",
        "df['Embarked']=newEmbark\n",
        "test['Embarked']=testEmbark\n",
        "\n"
      ],
      "execution_count": null,
      "outputs": []
    },
    {
      "cell_type": "code",
      "metadata": {
        "colab": {
          "base_uri": "https://localhost:8080/"
        },
        "id": "ftKy24KmPrE2",
        "outputId": "9b20a7b5-bf95-4972-bac9-fdda36edbd3a"
      },
      "source": [
        "print(df.head())\n",
        "print(test.head())"
      ],
      "execution_count": null,
      "outputs": [
        {
          "output_type": "stream",
          "name": "stdout",
          "text": [
            "   Survived  Pclass  Sex  SibSp  Parch     Fare  Embarked\n",
            "0         0       3    1      1      0   7.2500         2\n",
            "1         1       1    0      1      0  71.2833         0\n",
            "2         1       3    0      0      0   7.9250         2\n",
            "3         1       1    0      1      0  53.1000         2\n",
            "4         0       3    1      0      0   8.0500         2\n",
            "   Pclass  Sex  SibSp  Parch     Fare  Embarked\n",
            "0       3    1      0      0   7.8292         1\n",
            "1       3    0      1      0   7.0000         2\n",
            "2       2    1      0      0   9.6875         1\n",
            "3       3    1      0      0   8.6625         2\n",
            "4       3    0      1      1  12.2875         2\n"
          ]
        }
      ]
    },
    {
      "cell_type": "markdown",
      "metadata": {
        "id": "Ll9qUuOoIVdI"
      },
      "source": [
        "Scaling"
      ]
    },
    {
      "cell_type": "code",
      "metadata": {
        "colab": {
          "base_uri": "https://localhost:8080/"
        },
        "id": "8BhYSYWTIWUz",
        "outputId": "33bc0002-05e5-45d7-c4df-04a0f3f44540"
      },
      "source": [
        "scaler= StandardScaler()\n",
        "scaler.fit_transform(df[['Fare']])\n",
        "scaler.transform(test[['Fare']])"
      ],
      "execution_count": null,
      "outputs": [
        {
          "output_type": "execute_result",
          "data": {
            "text/plain": [
              "array([[-4.88578682e-01],\n",
              "       [-5.05273016e-01],\n",
              "       [-4.51165414e-01],\n",
              "       [-4.71801802e-01],\n",
              "       [-3.98819454e-01],\n",
              "       [-4.60476955e-01],\n",
              "       [-4.92605294e-01],\n",
              "       [-6.23456662e-02],\n",
              "       [-5.00658519e-01],\n",
              "       [-1.59991014e-01],\n",
              "       [-4.87237820e-01],\n",
              "       [-1.22744850e-01],\n",
              "       [ 1.01007607e+00],\n",
              "       [-1.22744850e-01],\n",
              "       [ 5.85435584e-01],\n",
              "       [-8.80998783e-02],\n",
              "       [-3.97561138e-01],\n",
              "       [-5.00743078e-01],\n",
              "       [-4.86649935e-01],\n",
              "       [-5.00743078e-01],\n",
              "       [ 5.49699400e-01],\n",
              "       [-5.82366535e-01],\n",
              "       [-8.32262258e-03],\n",
              "       [ 5.89546755e-01],\n",
              "       [ 4.63620753e+00],\n",
              "       [-3.54275056e-01],\n",
              "       [ 6.01626592e-01],\n",
              "       [-5.00743078e-01],\n",
              "       [-3.21460741e-02],\n",
              "       [-2.09735782e-01],\n",
              "       [-1.22744850e-01],\n",
              "       [-1.20130127e-02],\n",
              "       [-2.31966708e-01],\n",
              "       [-1.74084157e-01],\n",
              "       [ 5.16479848e-01],\n",
              "       [-5.00658519e-01],\n",
              "       [-4.84133302e-01],\n",
              "       [-4.71801802e-01],\n",
              "       [-4.54940363e-01],\n",
              "       [ 4.91228963e-01],\n",
              "       [-3.76085202e-01],\n",
              "       [-1.11671667e-01],\n",
              "       [-4.88159914e-01],\n",
              "       [-3.84474648e-01],\n",
              "       [ 4.11872488e-01],\n",
              "       [-4.86649935e-01],\n",
              "       [-4.82525232e-02],\n",
              "       [-4.90173220e-01],\n",
              "       [ 8.89781033e-01],\n",
              "       [-3.26088770e-01],\n",
              "       [ 5.61779236e-01],\n",
              "       [-3.43538094e-01],\n",
              "       [-1.83144034e-01],\n",
              "       [ 4.64879070e+00],\n",
              "       [-3.32547456e-01],\n",
              "       [-5.98290335e-02],\n",
              "       [-4.87237820e-01],\n",
              "       [-4.92186527e-01],\n",
              "       [-3.22062158e-01],\n",
              "       [ 4.63620753e+00],\n",
              "       [-4.87237820e-01],\n",
              "       [-3.74408117e-01],\n",
              "       [-4.90173220e-01],\n",
              "       [-4.90676547e-01],\n",
              "       [ 4.63620753e+00],\n",
              "       [-2.23410157e-01],\n",
              "       [-4.87572029e-01],\n",
              "       [ 2.07437356e-01],\n",
              "       [-7.16572071e-02],\n",
              "       [ 4.64879070e+00],\n",
              "       [-4.90173220e-01],\n",
              "       [-4.87237820e-01],\n",
              "       [-4.86649935e-01],\n",
              "       [-8.80998783e-02],\n",
              "       [ 3.61193803e+00],\n",
              "       [ 3.61193803e+00],\n",
              "       [-4.84133302e-01],\n",
              "       [-1.28784769e-01],\n",
              "       [-3.84474648e-01],\n",
              "       [-4.90173220e-01],\n",
              "       [-3.39259819e-01],\n",
              "       [ 3.81888980e+00],\n",
              "       [-1.22744850e-01],\n",
              "       [-4.87237820e-01],\n",
              "       [-4.30613585e-01],\n",
              "       [-3.55197150e-01],\n",
              "       [-4.87572029e-01],\n",
              "       [-4.84133302e-01],\n",
              "       [-4.90173220e-01],\n",
              "       [-1.83144034e-01],\n",
              "       [-3.66354893e-01],\n",
              "       [-4.89669894e-01],\n",
              "       [ 4.00714745e-01],\n",
              "       [-4.84133302e-01],\n",
              "       [-1.22744850e-01],\n",
              "       [-4.89251126e-01],\n",
              "       [ 9.41287443e-01],\n",
              "       [-4.86649935e-01],\n",
              "       [-4.88075355e-01],\n",
              "       [-4.84133302e-01],\n",
              "       [ 4.70006703e-01],\n",
              "       [-1.22744850e-01],\n",
              "       [-4.90173220e-01],\n",
              "       [-4.89669894e-01],\n",
              "       [-4.74737202e-01],\n",
              "       [-1.92707239e-01],\n",
              "       [-4.88747800e-01],\n",
              "       [-4.90173220e-01],\n",
              "       [-4.70795149e-01],\n",
              "       [-3.84474648e-01],\n",
              "       [-3.43286431e-01],\n",
              "       [-4.89585335e-01],\n",
              "       [-8.40516813e-03],\n",
              "       [-4.99569320e-01],\n",
              "       [ 3.81888980e+00],\n",
              "       [-3.55197150e-01],\n",
              "       [-5.16597863e-01],\n",
              "       [-3.09982321e-01],\n",
              "       [ 8.68641318e-01],\n",
              "       [-1.22744850e-01],\n",
              "       [-3.29108729e-01],\n",
              "       [-4.90173220e-01],\n",
              "       [ 5.16479848e-01],\n",
              "       [-5.00239751e-01],\n",
              "       [-4.90173220e-01],\n",
              "       [-3.22062158e-01],\n",
              "       [-4.89251126e-01],\n",
              "       [-1.78110769e-01],\n",
              "       [-3.84474648e-01],\n",
              "       [-4.84133302e-01],\n",
              "       [-4.84133302e-01],\n",
              "       [-7.24121969e-02],\n",
              "       [-1.33481812e-01],\n",
              "       [-5.16597863e-01],\n",
              "       [-4.87237820e-01],\n",
              "       [-4.88075355e-01],\n",
              "       [-5.00743078e-01],\n",
              "       [-3.84474648e-01],\n",
              "       [-4.84133302e-01],\n",
              "       [ 2.98036132e-01],\n",
              "       [ 2.98036132e-01],\n",
              "       [ 2.40496101e+00],\n",
              "       [ 4.63620753e+00],\n",
              "       [-1.22744850e-01],\n",
              "       [-1.11671667e-01],\n",
              "       [-2.83809341e-01],\n",
              "       [ 3.97946450e-01],\n",
              "       [-4.84133302e-01],\n",
              "       [-1.11671667e-01],\n",
              "       [-1.22744850e-01],\n",
              "       [ 1.02802671e+00],\n",
              "       [-4.87237820e-01],\n",
              "       [ 7.10799264e-02],\n",
              "       [-4.00917319e-01],\n",
              "       [-1.42779821e-02],\n",
              "       [-4.94199833e-01],\n",
              "       [ 3.81888980e+00],\n",
              "       [-4.88075355e-01],\n",
              "       [-1.11671667e-01],\n",
              "       [-3.68871526e-01],\n",
              "       [-4.90509443e-01],\n",
              "       [-3.39259819e-01],\n",
              "       [-3.74408117e-01],\n",
              "       [-5.05273016e-01],\n",
              "       [-3.84474648e-01],\n",
              "       [-2.02773769e-01],\n",
              "       [ 3.70430595e-01],\n",
              "       [ 4.58695387e-02],\n",
              "       [-8.80998783e-02],\n",
              "       [-4.65761883e-01],\n",
              "       [-4.94199833e-01],\n",
              "       [-5.00743078e-01],\n",
              "       [-3.66354893e-01],\n",
              "       [-5.00658519e-01],\n",
              "       [-1.42779821e-02],\n",
              "       [ 1.38984948e-01],\n",
              "       [ 9.36855595e-02],\n",
              "       [ 4.70006703e-01],\n",
              "       [ 1.38984948e-01],\n",
              "       [ 1.02802671e+00],\n",
              "       [-3.84474648e-01],\n",
              "       [ 1.02802671e+00],\n",
              "       [ 4.22861113e-01],\n",
              "       [-4.90173220e-01],\n",
              "       [ 4.33714701e+00],\n",
              "       [-3.24075464e-01],\n",
              "       [-2.23410157e-01],\n",
              "       [-4.84133302e-01],\n",
              "       [ 7.54049973e-01],\n",
              "       [-3.84474648e-01],\n",
              "       [-1.22744850e-01],\n",
              "       [-1.22744850e-01],\n",
              "       [-3.54275056e-01],\n",
              "       [-3.97561138e-01],\n",
              "       [ 8.12004865e-03],\n",
              "       [-4.88075355e-01],\n",
              "       [ 2.06169231e+00],\n",
              "       [-4.89669894e-01],\n",
              "       [-4.34807302e-01],\n",
              "       [-4.82874986e-01],\n",
              "       [-3.34141995e-01],\n",
              "       [-3.56288362e-01],\n",
              "       [ 3.93457034e+00],\n",
              "       [-1.22744850e-01],\n",
              "       [-4.34807302e-01],\n",
              "       [-1.27945220e-01],\n",
              "       [-4.90173220e-01],\n",
              "       [-4.34807302e-01],\n",
              "       [-8.80998783e-02],\n",
              "       [-4.87237820e-01],\n",
              "       [-1.92707239e-01],\n",
              "       [-5.04266363e-01],\n",
              "       [ 8.33575565e-01],\n",
              "       [-1.22744850e-01],\n",
              "       [-4.89669894e-01],\n",
              "       [ 2.09450662e-01],\n",
              "       [-4.87572029e-01],\n",
              "       [ 2.67306694e+00],\n",
              "       [ 3.61193803e+00],\n",
              "       [-4.84133302e-01],\n",
              "       [-3.67194442e-01],\n",
              "       [-4.84133302e-01],\n",
              "       [-4.34807302e-01],\n",
              "       [-4.89251126e-01],\n",
              "       [-9.36364702e-02],\n",
              "       [-3.39259819e-01],\n",
              "       [-4.89251126e-01],\n",
              "       [-4.90173220e-01],\n",
              "       [-3.42195219e-01],\n",
              "       [-3.84474648e-01],\n",
              "       [ 6.62444543e-01],\n",
              "       [-1.11671667e-01],\n",
              "       [-5.15424106e-01],\n",
              "       [-4.87572029e-01],\n",
              "       [ 7.88946608e-01],\n",
              "       [-4.88075355e-01],\n",
              "       [ 8.68808422e-01],\n",
              "       [-5.00743078e-01],\n",
              "       [-3.84474648e-01],\n",
              "       [ 1.49645661e+00],\n",
              "       [-8.80998783e-02],\n",
              "       [-4.22126048e-02],\n",
              "       [ 2.06169231e+00],\n",
              "       [-4.87404924e-01],\n",
              "       [-1.74084157e-01],\n",
              "       [ 3.97946450e-01],\n",
              "       [-2.23410157e-01],\n",
              "       [ 8.12004865e-03],\n",
              "       [-1.22744850e-01],\n",
              "       [-3.55197150e-01],\n",
              "       [-8.75119929e-02],\n",
              "       [-4.86649935e-01],\n",
              "       [ 2.10757958e+00],\n",
              "       [-4.58463649e-01],\n",
              "       [-4.54940363e-01],\n",
              "       [-4.94199833e-01],\n",
              "       [-4.90173220e-01],\n",
              "       [-4.84133302e-01],\n",
              "       [-3.84474648e-01],\n",
              "       [-4.89669894e-01],\n",
              "       [-2.95889178e-01],\n",
              "       [-4.88075355e-01],\n",
              "       [-1.83144034e-01],\n",
              "       [-4.00917319e-01],\n",
              "       [-3.89759577e-01],\n",
              "       [-4.87237820e-01],\n",
              "       [-6.46204446e-01],\n",
              "       [-4.94199833e-01],\n",
              "       [-4.84133302e-01],\n",
              "       [-4.71801802e-01],\n",
              "       [ 8.68641318e-01],\n",
              "       [-4.90173220e-01],\n",
              "       [ 2.10757958e+00],\n",
              "       [-3.34141995e-01],\n",
              "       [-5.00743078e-01],\n",
              "       [-1.22744850e-01],\n",
              "       [-4.34807302e-01],\n",
              "       [-1.22744850e-01],\n",
              "       [-2.23410157e-01],\n",
              "       [-4.34807302e-01],\n",
              "       [-4.71801802e-01],\n",
              "       [-3.68871526e-01],\n",
              "       [-4.90173220e-01],\n",
              "       [-3.39259819e-01],\n",
              "       [-2.39264943e-01],\n",
              "       [-5.00239751e-01],\n",
              "       [-5.00239751e-01],\n",
              "       [ 1.01007607e+00],\n",
              "       [-5.00658519e-01],\n",
              "       [-4.84133302e-01],\n",
              "       [ 1.51064784e-01],\n",
              "       [-5.06279670e-01],\n",
              "       [-5.00658519e-01],\n",
              "       [ 1.00185373e+00],\n",
              "       [-4.54940363e-01],\n",
              "       [-4.87237820e-01],\n",
              "       [ 1.90912139e-01],\n",
              "       [-2.09735782e-01],\n",
              "       [ 2.69849847e-01],\n",
              "       [-4.88075355e-01],\n",
              "       [-4.89669894e-01],\n",
              "       [-3.43286431e-01],\n",
              "       [-2.23410157e-01],\n",
              "       [-4.71801802e-01],\n",
              "       [-4.90173220e-01],\n",
              "       [-1.11671667e-01],\n",
              "       [ 2.40496101e+00],\n",
              "       [-4.57960322e-01],\n",
              "       [ 1.23623679e+00],\n",
              "       [-3.62161176e-01],\n",
              "       [-4.71801802e-01],\n",
              "       [-5.00743078e-01],\n",
              "       [-4.93696506e-01],\n",
              "       [-4.90173220e-01],\n",
              "       [ 2.08450911e+00],\n",
              "       [-4.90509443e-01],\n",
              "       [ 2.30370781e+00],\n",
              "       [-4.34807302e-01],\n",
              "       [-4.88075355e-01],\n",
              "       [-1.20130127e-02],\n",
              "       [-4.89669894e-01],\n",
              "       [-5.00658519e-01],\n",
              "       [-3.84474648e-01],\n",
              "       [-1.11671667e-01],\n",
              "       [ 3.60866641e+00],\n",
              "       [-5.04266363e-01],\n",
              "       [ 1.38984948e-01],\n",
              "       [ 9.48334015e-01],\n",
              "       [-1.22744850e-01],\n",
              "       [-3.84474648e-01],\n",
              "       [ 9.36855595e-02],\n",
              "       [-4.82525232e-02],\n",
              "       [-5.00743078e-01],\n",
              "       [-3.29275834e-01],\n",
              "       [-4.87237820e-01],\n",
              "       [-1.22744850e-01],\n",
              "       [-3.84474648e-01],\n",
              "       [-5.00658519e-01],\n",
              "       [-1.20130127e-02],\n",
              "       [-5.00658519e-01],\n",
              "       [-4.34807302e-01],\n",
              "       [-4.93611947e-01],\n",
              "       [ 7.54049973e-01],\n",
              "       [ 9.66855078e+00],\n",
              "       [-3.54275056e-01],\n",
              "       [-4.92186527e-01],\n",
              "       [-3.84474648e-01],\n",
              "       [-5.00658519e-01],\n",
              "       [-3.74408117e-01],\n",
              "       [-2.23410157e-01],\n",
              "       [ 6.29392097e-01],\n",
              "       [-4.34807302e-01],\n",
              "       [ 8.33575565e-01],\n",
              "       [ 6.62444543e-01],\n",
              "       [-2.31966708e-01],\n",
              "       [-1.22744850e-01],\n",
              "       [ 3.90229447e-01],\n",
              "       [-4.87572029e-01],\n",
              "       [-4.90173220e-01],\n",
              "       [-3.33135342e-01],\n",
              "       [ 7.54049973e-01],\n",
              "       [ 9.88033837e-02],\n",
              "       [-2.23410157e-01],\n",
              "       [-4.71801802e-01],\n",
              "       [ 4.70006703e-01],\n",
              "       [ 7.54049973e-01],\n",
              "       [-3.55114605e-01],\n",
              "       [ 1.52826427e-01],\n",
              "       [ 5.49699400e-01],\n",
              "       [-3.67194442e-01],\n",
              "       [-4.14674240e-01],\n",
              "       [ 2.06169231e+00],\n",
              "       [-6.46204446e-01],\n",
              "       [-3.84474648e-01],\n",
              "       [ 1.00185373e+00],\n",
              "       [ 4.63620753e+00],\n",
              "       [-4.71801802e-01],\n",
              "       [-4.14674240e-01],\n",
              "       [ 3.60448623e-01],\n",
              "       [-1.42779821e-02],\n",
              "       [-4.90173220e-01],\n",
              "       [-4.87572029e-01],\n",
              "       [-3.54275056e-01],\n",
              "       [-3.22062158e-01],\n",
              "       [-3.86991281e-01],\n",
              "       [ 6.62444543e-01],\n",
              "       [-4.89669894e-01],\n",
              "       [-3.84474648e-01],\n",
              "       [-4.90173220e-01],\n",
              "       [-2.21900178e-01],\n",
              "       [ 1.23623679e+00],\n",
              "       [ 1.47038172e-01],\n",
              "       [-2.38509953e-01],\n",
              "       [-4.34807302e-01],\n",
              "       [-2.02773769e-01],\n",
              "       [ 5.61779236e-01],\n",
              "       [-5.00239751e-01],\n",
              "       [ 9.48334015e-01],\n",
              "       [-4.89669894e-01],\n",
              "       [-4.90509443e-01],\n",
              "       [ 2.67306694e+00],\n",
              "       [-2.23410157e-01],\n",
              "       [ 5.49699400e-01],\n",
              "       [ 3.02062745e-01],\n",
              "       [-8.80998783e-02],\n",
              "       [-3.67109883e-01],\n",
              "       [-4.34807302e-01],\n",
              "       [ 3.61193803e+00],\n",
              "       [-4.90761106e-01],\n",
              "       [-3.68871526e-01],\n",
              "       [-4.90173220e-01],\n",
              "       [ 1.16577108e+00],\n",
              "       [-4.89669894e-01],\n",
              "       [-4.84133302e-01],\n",
              "       [ 1.54628594e+00],\n",
              "       [-5.00239751e-01],\n",
              "       [-4.84133302e-01],\n",
              "       [-1.96063420e-01]])"
            ]
          },
          "metadata": {},
          "execution_count": 8
        }
      ]
    },
    {
      "cell_type": "markdown",
      "metadata": {
        "id": "K0rcSjhxQ9xc"
      },
      "source": [
        "#Check accuracy of the dataset"
      ]
    },
    {
      "cell_type": "markdown",
      "metadata": {
        "id": "kPwzRadLRUOc"
      },
      "source": [
        "making x and y"
      ]
    },
    {
      "cell_type": "code",
      "metadata": {
        "id": "GvRzm2vuRUaG"
      },
      "source": [
        "x=df.iloc[:,1:]\n",
        "y=df.Survived"
      ],
      "execution_count": null,
      "outputs": []
    },
    {
      "cell_type": "markdown",
      "metadata": {
        "id": "XK61_6nLREW4"
      },
      "source": [
        "Train test split"
      ]
    },
    {
      "cell_type": "code",
      "metadata": {
        "id": "XsfNF__6RAUD"
      },
      "source": [
        "x_train,x_test,y_train,y_test=train_test_split(x,y)"
      ],
      "execution_count": null,
      "outputs": []
    },
    {
      "cell_type": "markdown",
      "metadata": {
        "id": "R8KdcoUmRrEn"
      },
      "source": [
        "scoring"
      ]
    },
    {
      "cell_type": "code",
      "metadata": {
        "id": "5sWvgvCpRr1S"
      },
      "source": [
        "model=LogisticRegression().fit(x_train,y_train)"
      ],
      "execution_count": null,
      "outputs": []
    },
    {
      "cell_type": "code",
      "metadata": {
        "colab": {
          "base_uri": "https://localhost:8080/"
        },
        "id": "0Ihex_tjRzD-",
        "outputId": "364f4828-86ea-4bf5-ba26-4056c79d9637"
      },
      "source": [
        "model.score(x_test,y_test)"
      ],
      "execution_count": null,
      "outputs": [
        {
          "output_type": "execute_result",
          "data": {
            "text/plain": [
              "0.8116591928251121"
            ]
          },
          "metadata": {},
          "execution_count": 12
        }
      ]
    },
    {
      "cell_type": "code",
      "metadata": {
        "id": "fsgkHwn7UFhd"
      },
      "source": [
        "res=model.predict(test)"
      ],
      "execution_count": null,
      "outputs": []
    },
    {
      "cell_type": "code",
      "metadata": {
        "id": "qZWY-y1YUQh_"
      },
      "source": [
        "result=pd.DataFrame(res)"
      ],
      "execution_count": null,
      "outputs": []
    },
    {
      "cell_type": "code",
      "metadata": {
        "colab": {
          "base_uri": "https://localhost:8080/",
          "height": 417
        },
        "id": "hZc_Nj2uUfiu",
        "outputId": "9102b6dc-ab78-43b9-c6ef-55313c546d44"
      },
      "source": [
        "result"
      ],
      "execution_count": null,
      "outputs": [
        {
          "output_type": "execute_result",
          "data": {
            "text/html": [
              "<div>\n",
              "<style scoped>\n",
              "    .dataframe tbody tr th:only-of-type {\n",
              "        vertical-align: middle;\n",
              "    }\n",
              "\n",
              "    .dataframe tbody tr th {\n",
              "        vertical-align: top;\n",
              "    }\n",
              "\n",
              "    .dataframe thead th {\n",
              "        text-align: right;\n",
              "    }\n",
              "</style>\n",
              "<table border=\"1\" class=\"dataframe\">\n",
              "  <thead>\n",
              "    <tr style=\"text-align: right;\">\n",
              "      <th></th>\n",
              "      <th>0</th>\n",
              "    </tr>\n",
              "  </thead>\n",
              "  <tbody>\n",
              "    <tr>\n",
              "      <th>0</th>\n",
              "      <td>0</td>\n",
              "    </tr>\n",
              "    <tr>\n",
              "      <th>1</th>\n",
              "      <td>1</td>\n",
              "    </tr>\n",
              "    <tr>\n",
              "      <th>2</th>\n",
              "      <td>0</td>\n",
              "    </tr>\n",
              "    <tr>\n",
              "      <th>3</th>\n",
              "      <td>0</td>\n",
              "    </tr>\n",
              "    <tr>\n",
              "      <th>4</th>\n",
              "      <td>1</td>\n",
              "    </tr>\n",
              "    <tr>\n",
              "      <th>...</th>\n",
              "      <td>...</td>\n",
              "    </tr>\n",
              "    <tr>\n",
              "      <th>413</th>\n",
              "      <td>0</td>\n",
              "    </tr>\n",
              "    <tr>\n",
              "      <th>414</th>\n",
              "      <td>1</td>\n",
              "    </tr>\n",
              "    <tr>\n",
              "      <th>415</th>\n",
              "      <td>0</td>\n",
              "    </tr>\n",
              "    <tr>\n",
              "      <th>416</th>\n",
              "      <td>0</td>\n",
              "    </tr>\n",
              "    <tr>\n",
              "      <th>417</th>\n",
              "      <td>0</td>\n",
              "    </tr>\n",
              "  </tbody>\n",
              "</table>\n",
              "<p>418 rows × 1 columns</p>\n",
              "</div>"
            ],
            "text/plain": [
              "     0\n",
              "0    0\n",
              "1    1\n",
              "2    0\n",
              "3    0\n",
              "4    1\n",
              "..  ..\n",
              "413  0\n",
              "414  1\n",
              "415  0\n",
              "416  0\n",
              "417  0\n",
              "\n",
              "[418 rows x 1 columns]"
            ]
          },
          "metadata": {},
          "execution_count": 15
        }
      ]
    },
    {
      "cell_type": "code",
      "metadata": {
        "colab": {
          "base_uri": "https://localhost:8080/"
        },
        "id": "gXYdrLvuUhIB",
        "outputId": "cda939e6-e83f-4e81-aa49-44ba9b0abc66"
      },
      "source": [
        "result.shape"
      ],
      "execution_count": null,
      "outputs": [
        {
          "output_type": "execute_result",
          "data": {
            "text/plain": [
              "(418, 1)"
            ]
          },
          "metadata": {},
          "execution_count": 16
        }
      ]
    },
    {
      "cell_type": "code",
      "metadata": {
        "colab": {
          "base_uri": "https://localhost:8080/"
        },
        "id": "CPgerCyCUs6R",
        "outputId": "7fa2bf1f-2edf-4bef-b4c8-710896f5bc0e"
      },
      "source": [
        "passengerId.shape"
      ],
      "execution_count": null,
      "outputs": [
        {
          "output_type": "execute_result",
          "data": {
            "text/plain": [
              "(418,)"
            ]
          },
          "metadata": {},
          "execution_count": 17
        }
      ]
    },
    {
      "cell_type": "code",
      "metadata": {
        "id": "GS0m3RzFVA3r"
      },
      "source": [
        "result['PassengerId']=passengerId"
      ],
      "execution_count": null,
      "outputs": []
    },
    {
      "cell_type": "code",
      "metadata": {
        "colab": {
          "base_uri": "https://localhost:8080/",
          "height": 417
        },
        "id": "eo41JLnMVD-z",
        "outputId": "8dc2075d-2050-4862-90dd-b9cfb7258dbe"
      },
      "source": [
        "result"
      ],
      "execution_count": null,
      "outputs": [
        {
          "output_type": "execute_result",
          "data": {
            "text/html": [
              "<div>\n",
              "<style scoped>\n",
              "    .dataframe tbody tr th:only-of-type {\n",
              "        vertical-align: middle;\n",
              "    }\n",
              "\n",
              "    .dataframe tbody tr th {\n",
              "        vertical-align: top;\n",
              "    }\n",
              "\n",
              "    .dataframe thead th {\n",
              "        text-align: right;\n",
              "    }\n",
              "</style>\n",
              "<table border=\"1\" class=\"dataframe\">\n",
              "  <thead>\n",
              "    <tr style=\"text-align: right;\">\n",
              "      <th></th>\n",
              "      <th>0</th>\n",
              "      <th>PassengerId</th>\n",
              "    </tr>\n",
              "  </thead>\n",
              "  <tbody>\n",
              "    <tr>\n",
              "      <th>0</th>\n",
              "      <td>0</td>\n",
              "      <td>892</td>\n",
              "    </tr>\n",
              "    <tr>\n",
              "      <th>1</th>\n",
              "      <td>1</td>\n",
              "      <td>893</td>\n",
              "    </tr>\n",
              "    <tr>\n",
              "      <th>2</th>\n",
              "      <td>0</td>\n",
              "      <td>894</td>\n",
              "    </tr>\n",
              "    <tr>\n",
              "      <th>3</th>\n",
              "      <td>0</td>\n",
              "      <td>895</td>\n",
              "    </tr>\n",
              "    <tr>\n",
              "      <th>4</th>\n",
              "      <td>1</td>\n",
              "      <td>896</td>\n",
              "    </tr>\n",
              "    <tr>\n",
              "      <th>...</th>\n",
              "      <td>...</td>\n",
              "      <td>...</td>\n",
              "    </tr>\n",
              "    <tr>\n",
              "      <th>413</th>\n",
              "      <td>0</td>\n",
              "      <td>1305</td>\n",
              "    </tr>\n",
              "    <tr>\n",
              "      <th>414</th>\n",
              "      <td>1</td>\n",
              "      <td>1306</td>\n",
              "    </tr>\n",
              "    <tr>\n",
              "      <th>415</th>\n",
              "      <td>0</td>\n",
              "      <td>1307</td>\n",
              "    </tr>\n",
              "    <tr>\n",
              "      <th>416</th>\n",
              "      <td>0</td>\n",
              "      <td>1308</td>\n",
              "    </tr>\n",
              "    <tr>\n",
              "      <th>417</th>\n",
              "      <td>0</td>\n",
              "      <td>1309</td>\n",
              "    </tr>\n",
              "  </tbody>\n",
              "</table>\n",
              "<p>418 rows × 2 columns</p>\n",
              "</div>"
            ],
            "text/plain": [
              "     0  PassengerId\n",
              "0    0          892\n",
              "1    1          893\n",
              "2    0          894\n",
              "3    0          895\n",
              "4    1          896\n",
              "..  ..          ...\n",
              "413  0         1305\n",
              "414  1         1306\n",
              "415  0         1307\n",
              "416  0         1308\n",
              "417  0         1309\n",
              "\n",
              "[418 rows x 2 columns]"
            ]
          },
          "metadata": {},
          "execution_count": 19
        }
      ]
    },
    {
      "cell_type": "code",
      "metadata": {
        "id": "Ts4CTzcWVVyq"
      },
      "source": [
        "result.to_csv(\"answer.csv\")"
      ],
      "execution_count": null,
      "outputs": []
    }
  ]
}